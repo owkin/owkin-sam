{
 "cells": [
  {
   "cell_type": "markdown",
   "metadata": {},
   "source": [
    "# Infer Nuclick on DB points for phase 2"
   ]
  },
  {
   "cell_type": "code",
   "execution_count": null,
   "metadata": {},
   "outputs": [],
   "source": [
    "from histomics.engine.inference.nuclick.nuclick_annotation_pipe import NuclickAnnotationPipe\n",
    "from histomics.data.db.backup import backup\n",
    "from loguru import logger\n",
    "import matplotlib.pyplot as plt\n",
    "\n",
    "DB_PATH = \"sqlite:////home/owkin/project/database/first_phase.db\"\n",
    "annot_pipe = NuclickAnnotationPipe(root_path=DB_PATH, nuclick_version=\"unet\")\n",
    "\n",
    "# Select tiles from Phase 2 only with pulled annotations of points\n",
    "SQL_QUERY_PHASE_2 = (\"SELECT tiles.tile_id,\"\n",
    "    \" tiles.coords,tiles.slide_name,slides.abstra_slide_path FROM slides\"\n",
    "    \" INNER JOIN tiles ON tiles.slide_name=slides.slide_name\"\n",
    "    \" WHERE tiles.annotation_type = 'point'\"\n",
    "    \" AND tiles.nuclick_has_been_inferred = False\"\n",
    "    \" AND tiles.is_pulled_from_cytomine=1 AND tiles.timestamp_pushed >= '2024-02-08'\"\n",
    ")\n",
    "\n",
    "\n",
    "SQL_QUERY_PHASE_1 = (\"SELECT tiles.tile_id,\"\n",
    "    \" tiles.coords,tiles.slide_name,slides.abstra_slide_path FROM slides\"\n",
    "    \" INNER JOIN tiles ON tiles.slide_name=slides.slide_name\"\n",
    "    \" WHERE tiles.annotation_type = 'point'\"\n",
    "    \" AND tiles.nuclick_has_been_inferred = False\"\n",
    "    \" AND tiles.is_pulled_from_cytomine=1 AND tiles.timestamp_pushed <= '2024-01-01'\"\n",
    ")\n",
    "\n",
    "\n",
    "dataset = annot_pipe.get_inference_dataset(db_root_path=DB_PATH, sql_query=SQL_QUERY_PHASE_1)"
   ]
  },
  {
   "cell_type": "code",
   "execution_count": null,
   "metadata": {},
   "outputs": [],
   "source": [
    "dataset.dataset.dataframe"
   ]
  },
  {
   "cell_type": "code",
   "execution_count": null,
   "metadata": {},
   "outputs": [],
   "source": [
    "list_all_tile_ids_phase_2 = dataset.dataset.dataframe.index.tolist().copy()\n",
    "\n",
    "chunk_size = 20\n",
    "\n",
    "chunks = [list_all_tile_ids_phase_2[chunk_size*i:chunk_size*(i+1)] for i in range(len(list_all_tile_ids_phase_2)//chunk_size + 1)]"
   ]
  },
  {
   "cell_type": "code",
   "execution_count": null,
   "metadata": {},
   "outputs": [],
   "source": [
    "len(list_all_tile_ids_phase_2)"
   ]
  },
  {
   "cell_type": "code",
   "execution_count": null,
   "metadata": {},
   "outputs": [],
   "source": [
    "len(chunks)"
   ]
  },
  {
   "cell_type": "code",
   "execution_count": null,
   "metadata": {},
   "outputs": [],
   "source": [
    "BEST_MODEL_PATH = (\n",
    "    \"/home/owkin/project/experiments/nuclick/\"\n",
    "    \"consep_pcns_train_unet_nuclick/checkpoint_epoch35.pth\"\n",
    ")\n",
    "\n",
    "model = annot_pipe.get_nuclick_model(nuclick_version=\"unet\", weights_file_path=BEST_MODEL_PATH)"
   ]
  },
  {
   "cell_type": "markdown",
   "metadata": {},
   "source": [
    "## Before Launching Inference"
   ]
  },
  {
   "cell_type": "code",
   "execution_count": null,
   "metadata": {},
   "outputs": [],
   "source": [
    "# Backup\n",
    "\n",
    "backup(\"first_phase\")"
   ]
  },
  {
   "cell_type": "code",
   "execution_count": null,
   "metadata": {},
   "outputs": [],
   "source": [
    "chunks[1][6]"
   ]
  },
  {
   "cell_type": "code",
   "execution_count": null,
   "metadata": {},
   "outputs": [],
   "source": [
    "# These tiles create CUDA OOM errors because they have a lot of instances (more than 500)\n",
    "TILES_EXCLUDE = [71932813, 61093044]"
   ]
  },
  {
   "cell_type": "code",
   "execution_count": null,
   "metadata": {},
   "outputs": [],
   "source": [
    "annot_pipe.set_inferer(model, model_full_name=\"nuclick_unet_consep_pcns_35_epochs\")\n",
    "\n",
    "for idx_chunk, tile_id_chunk in enumerate(chunks):\n",
    "    # DONT LAUNCH IT YET\n",
    "    logger.info(f\"Processing chunk: {idx_chunk}\")\n",
    "\n",
    "    subset = [str(x) for x in tile_id_chunk if x not in TILES_EXCLUDE]  # Transform to string\n",
    "    annot_pipe.set_dataset(sql_query=SQL_QUERY_PHASE_1, subset_tiles_ids=subset)\n",
    "    nuclick_results = annot_pipe.get_nuclick_results()\n",
    "\n",
    "    annot_pipe.dump_results_viz(nuclick_results, dump_directory=\"/home/owkin/project/database/nuclick_preannotations_05_04\")\n",
    "    plt.close(\"all\")\n",
    "    logger.warning(\"Uploading results to the database\")\n",
    "    annot_pipe.upload_to_database(nuclick_results)"
   ]
  },
  {
   "cell_type": "code",
   "execution_count": null,
   "metadata": {},
   "outputs": [],
   "source": [
    "all_nuclick_results"
   ]
  },
  {
   "cell_type": "code",
   "execution_count": null,
   "metadata": {},
   "outputs": [],
   "source": [
    "all_nuclick_results[0][\"70397741\"][\"instance_map\"]"
   ]
  },
  {
   "cell_type": "code",
   "execution_count": null,
   "metadata": {},
   "outputs": [],
   "source": [
    "all_nuclick_results[0][\"70397741\"]"
   ]
  },
  {
   "cell_type": "code",
   "execution_count": null,
   "metadata": {},
   "outputs": [],
   "source": [
    "annot_pipe.dump_results_viz(all_nuclick_results[0], dump_directory=\"/home/owkin/project/database/nuclick_preannotations_04_04\")"
   ]
  },
  {
   "cell_type": "code",
   "execution_count": null,
   "metadata": {},
   "outputs": [],
   "source": []
  }
 ],
 "metadata": {
  "kernelspec": {
   "display_name": "Python 3 (ipykernel)",
   "language": "python",
   "name": "python3"
  },
  "language_info": {
   "codemirror_mode": {
    "name": "ipython",
    "version": 3
   },
   "file_extension": ".py",
   "mimetype": "text/x-python",
   "name": "python",
   "nbconvert_exporter": "python",
   "pygments_lexer": "ipython3",
   "version": "3.10.12"
  }
 },
 "nbformat": 4,
 "nbformat_minor": 4
}
