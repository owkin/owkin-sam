{
 "cells": [
  {
   "cell_type": "markdown",
   "metadata": {},
   "source": [
    "# Compare SAM inference to pathologists"
   ]
  },
  {
   "cell_type": "code",
   "execution_count": 1,
   "metadata": {},
   "outputs": [
    {
     "name": "stderr",
     "output_type": "stream",
     "text": [
      "/home/owkin/envs/sam/lib/python3.9/site-packages/torchvision/io/image.py:13: UserWarning: Failed to load image Python extension: '/home/owkin/envs/sam/lib/python3.9/site-packages/torchvision/image.so: undefined symbol: _ZN3c104cuda9SetDeviceEi'If you don't plan on using image functionality from `torchvision.io`, you can ignore this warning. Otherwise, there might be something wrong with your environment. Did you have `libjpeg` or `libpng` installed before building `torchvision` from source?\n",
      "  warn(\n"
     ]
    }
   ],
   "source": [
    "import pandas as pd\n",
    "import numpy as np\n",
    "import os\n",
    "import os.path as osp\n",
    "from pathlib import Path\n",
    "import matplotlib.pyplot as plt\n",
    "%matplotlib inline\n",
    "%config InlineBackend.figure_format='retina'\n",
    "\n",
    "\n",
    "from histomics.utils.annotations.stats.annotation_stats import DatabaseAnnotationPuller\n",
    "from histomics.data.constants import HIPE_OBSERVED_CLASSES\n",
    "from histomics.metrics.segmentation_metrics import EnsembleDiceHoVerNet, PanopticQuality\n",
    "from histomics.metrics.segmentation_nuclick_metrics import (\n",
    "    InstanceBasedMaskMetricByClass,\n",
    "    IoUByInstance,\n",
    ")\n",
    "from histomics.data.io.torch_dataset import TrainDataset\n",
    "\n",
    "from histomics.data.transforms.label_transforms import (\n",
    "    NuclickRandomCentroidLabelTransform,\n",
    ")\n",
    "from histomics.data.datasets.from_database.nuclick_validation_dataset import (\n",
    "    NuclickValidationFromDataBase, NUCLICK_TILES_GT_QUERY\n",
    ")\n",
    "from histomics.engine.inference.nuclick.inferer_nuclick import NuclickInferer\n",
    "from histomics.models.centroids_segmentation.nuclick import NuClick\n",
    "from histomics.data.collate_fn import collate_fn_zip\n",
    "from histomics.utils.annotations.stats.annotation_utils import plot_annotation_on_ax, plot_annotations_on_tile, plot_matching_annotators, plot_tile_with_multiple_annotators, list_to_single_annotations\n",
    "\n",
    "from segment_anything.sam_histomics.compute_metrics import get_inferer, get_dataset_from_database, export_masks_to_dataframe_annotations, compute_metrics_on_outputs, convert_df_annotations_to_masks"
   ]
  },
  {
   "cell_type": "markdown",
   "metadata": {},
   "source": [
    "# Load pathologist data from the ground_truth_tiles DB"
   ]
  },
  {
   "cell_type": "code",
   "execution_count": null,
   "metadata": {},
   "outputs": [],
   "source": [
    "annot_puller = DatabaseAnnotationPuller(path_db=\"/home/owkin/project/database/ground_truth_tiles.db\", remove_katharina_from_annotations=False)\n",
    "\n",
    "df_annotations = annot_puller.get_annotations_full()\n",
    "\n",
    "df_annotations[\"cell_type\"] = df_annotations[\"cell_type\"].apply(list_to_single_annotations)\n",
    "\n",
    "df_annotations = df_annotations.loc[df_annotations[\"coordinates\"].str.startswith(\"POLYGON\")]"
   ]
  },
  {
   "cell_type": "code",
   "execution_count": null,
   "metadata": {},
   "outputs": [],
   "source": [
    "df_multiple_pathologists = annot_puller.get_multiple_annotated_tiles_df()"
   ]
  },
  {
   "cell_type": "code",
   "execution_count": null,
   "metadata": {},
   "outputs": [],
   "source": [
    "df_multiple_pathologists"
   ]
  },
  {
   "cell_type": "code",
   "execution_count": null,
   "metadata": {},
   "outputs": [],
   "source": [
    "df_annotations.loc[df_annotations[\"tile_id\"] == 65331257]"
   ]
  },
  {
   "cell_type": "code",
   "execution_count": null,
   "metadata": {},
   "outputs": [],
   "source": [
    "df_multiple_pathologists = df_multiple_pathologists.loc[df_multiple_pathologists[\"nb_annotations\"] > 1]"
   ]
  },
  {
   "cell_type": "code",
   "execution_count": null,
   "metadata": {},
   "outputs": [],
   "source": [
    "df_multiple_pathologists = df_multiple_pathologists.reset_index(drop=True)"
   ]
  },
  {
   "cell_type": "code",
   "execution_count": null,
   "metadata": {},
   "outputs": [],
   "source": [
    "df_crossed_annotations = annot_puller.retrieve_and_match_annotations(df_annotations, location_id=df_multiple_pathologists.loc[0, \"location_id\"], threshold_iou=0.5)"
   ]
  },
  {
   "cell_type": "code",
   "execution_count": null,
   "metadata": {},
   "outputs": [],
   "source": [
    "df_crossed_annotations"
   ]
  },
  {
   "cell_type": "code",
   "execution_count": null,
   "metadata": {},
   "outputs": [],
   "source": [
    "df_crossed_annotations"
   ]
  },
  {
   "cell_type": "code",
   "execution_count": null,
   "metadata": {},
   "outputs": [],
   "source": [
    "annotations_trialland = df_annotations.loc[df_annotations[\"cytomine_username\"] == \"trialland\"]"
   ]
  },
  {
   "cell_type": "code",
   "execution_count": null,
   "metadata": {},
   "outputs": [],
   "source": [
    "annotations_good_tile = annotations_trialland.loc[annotations_trialland[\"tile_id\"] == 97435628]"
   ]
  },
  {
   "cell_type": "code",
   "execution_count": null,
   "metadata": {},
   "outputs": [],
   "source": [
    "masks = convert_df_annotations_to_masks(annotations_good_tile)\n"
   ]
  },
  {
   "cell_type": "markdown",
   "metadata": {},
   "source": [
    "### Compute metrics on the masks from T.Rialland"
   ]
  },
  {
   "cell_type": "code",
   "execution_count": null,
   "metadata": {},
   "outputs": [],
   "source": [
    "# Need to get dataset from Database\n",
    "\n",
    "dataset = get_dataset_from_database()\n",
    "\n",
    "metrics = {\n",
    "    \"ensemble_dice\": EnsembleDiceHoVerNet(),\n",
    "    # \"IoU_by_class\": InstanceBasedMaskMetricByClass(\n",
    "    #     IoUByInstance, categories=HIPE_OBSERVED_CLASSES,\n",
    "    # ),\n",
    "    \"Panoptic quality\": PanopticQuality()\n",
    "}\n"
   ]
  },
  {
   "cell_type": "code",
   "execution_count": null,
   "metadata": {},
   "outputs": [],
   "source": []
  },
  {
   "cell_type": "code",
   "execution_count": null,
   "metadata": {},
   "outputs": [],
   "source": [
    "outputs_trialland = compute_masks_and_match_tile_ids(df_annotations, df_multiple_pathologists, \"trialland\")"
   ]
  },
  {
   "cell_type": "code",
   "execution_count": null,
   "metadata": {},
   "outputs": [],
   "source": [
    "outputs_trialland"
   ]
  },
  {
   "cell_type": "code",
   "execution_count": null,
   "metadata": {},
   "outputs": [],
   "source": [
    "trialland_metrics = compute_metrics_on_outputs(outputs_trialland, dataset, metrics, tile_by_tile=True)"
   ]
  },
  {
   "cell_type": "code",
   "execution_count": null,
   "metadata": {},
   "outputs": [],
   "source": [
    "outputs_trialland[67912873].shape"
   ]
  },
  {
   "cell_type": "code",
   "execution_count": null,
   "metadata": {},
   "outputs": [],
   "source": [
    "trialland_metrics.mean()"
   ]
  },
  {
   "cell_type": "markdown",
   "metadata": {},
   "source": [
    "## Infer SAM on ground truth tiles"
   ]
  },
  {
   "cell_type": "code",
   "execution_count": null,
   "metadata": {},
   "outputs": [],
   "source": [
    "inferer = get_inferer()\n",
    "\n",
    "dataset = get_dataset_from_database()\n",
    "\n",
    "outputs_dataset = inferer.infer_on_dataset(dataset)"
   ]
  },
  {
   "cell_type": "code",
   "execution_count": null,
   "metadata": {},
   "outputs": [],
   "source": [
    "metrics = {\n",
    "    \"ensemble_dice\": EnsembleDiceHoVerNet(),\n",
    "    \"IoU_by_class\": InstanceBasedMaskMetricByClass(\n",
    "        IoUByInstance, categories=[2],\n",
    "    ),\n",
    "    \"Panoptic quality\": PanopticQuality()\n",
    "}\n",
    "\n",
    "df_metrics = compute_metrics_on_outputs(outputs_dataset, dataset, metrics)"
   ]
  },
  {
   "cell_type": "code",
   "execution_count": null,
   "metadata": {},
   "outputs": [],
   "source": [
    "df_metrics"
   ]
  },
  {
   "cell_type": "code",
   "execution_count": null,
   "metadata": {},
   "outputs": [],
   "source": [
    "df_metrics.mean()"
   ]
  },
  {
   "cell_type": "code",
   "execution_count": null,
   "metadata": {},
   "outputs": [],
   "source": [
    "df_metrics.loc[\"3521541\", \"Panoptic quality\"]"
   ]
  },
  {
   "cell_type": "code",
   "execution_count": null,
   "metadata": {},
   "outputs": [],
   "source": [
    "df_metrics.loc[\"3521541\", \"IoU_by_class\"]"
   ]
  },
  {
   "cell_type": "code",
   "execution_count": null,
   "metadata": {},
   "outputs": [],
   "source": [
    "df_sam_annotations = export_masks_to_dataframe_annotations(outputs_dataset, dataset, model_name=\"saminference\")"
   ]
  },
  {
   "cell_type": "code",
   "execution_count": null,
   "metadata": {},
   "outputs": [],
   "source": [
    "df_sam_annotations"
   ]
  },
  {
   "cell_type": "code",
   "execution_count": null,
   "metadata": {},
   "outputs": [],
   "source": [
    "df_sam_annotations.to_csv(\"/home/owkin/project/experiments/nuclick_sam_comp/sam_annotations.csv\", index=False)"
   ]
  },
  {
   "cell_type": "markdown",
   "metadata": {},
   "source": [
    "TODO:\n",
    "- Remove tiles at the border\n",
    "- "
   ]
  },
  {
   "cell_type": "code",
   "execution_count": null,
   "metadata": {},
   "outputs": [],
   "source": [
    "df_annotations_with_sam = pd.concat([df_annotations, df_sam_annotations], axis=0, join=\"outer\")"
   ]
  },
  {
   "cell_type": "code",
   "execution_count": null,
   "metadata": {},
   "outputs": [],
   "source": [
    "df_annotations_with_sam"
   ]
  },
  {
   "cell_type": "code",
   "execution_count": null,
   "metadata": {},
   "outputs": [],
   "source": [
    "list_location_ids = df_annotations_with_sam[\"location_id\"].unique().tolist()"
   ]
  },
  {
   "cell_type": "code",
   "execution_count": null,
   "metadata": {},
   "outputs": [],
   "source": [
    "matching_sam_katharina = annot_puller.retrieve_and_match_annotations(df_annotations_with_sam, location_id=95145984, threshold_iou=0.0)"
   ]
  },
  {
   "cell_type": "code",
   "execution_count": null,
   "metadata": {},
   "outputs": [],
   "source": [
    "matching_sam_katharina.loc[matching_sam_katharina[\"username_matching\"] == \"kvonloga_saminference\"]"
   ]
  },
  {
   "cell_type": "code",
   "execution_count": null,
   "metadata": {},
   "outputs": [],
   "source": [
    "for loc_id in list_location_ids:\n",
    "    ax, all_labels = plot_tile_with_multiple_annotators(df_annotations_with_sam.loc[df_annotations_with_sam[\"location_id\"] == loc_id])\n",
    "    plt.legend(all_labels.values(), all_labels.keys(), bbox_to_anchor=(1.01, 1), loc=\"upper left\")\n",
    "    plt.show()"
   ]
  },
  {
   "cell_type": "markdown",
   "metadata": {},
   "source": [
    "# Infer Nuclick as well on Katharinas annotations"
   ]
  },
  {
   "cell_type": "code",
   "execution_count": null,
   "metadata": {},
   "outputs": [],
   "source": [
    "# Instantiate Nuclick\n",
    "root_db = \"sqlite:////home/owkin/project/database/ground_truth_tiles.db\"\n",
    "device = \"cuda\"\n",
    "\n",
    "metrics = {\n",
    "    \"ensemble_dice\": EnsembleDiceHoVerNet(),\n",
    "}\n",
    "\n",
    "model = NuClick(nuclick_version=\"unet\",\n",
    "                weights_file=\"/home/owkin/project/experiments/nuclick/consep_pcns_train_unet_nuclick/checkpoint_epoch35.pth\",\n",
    "                device=device)\n",
    "\n",
    "inferer = NuclickInferer(\n",
    "    model, collate_fn_zip, batch_size=1, metrics=metrics, device=device,\n",
    "    out_threshold=0.5, min_size=3\n",
    ")\n",
    "\n",
    "label_transform = NuclickRandomCentroidLabelTransform(0.1)\n",
    "\n",
    "our_dataset = NuclickValidationFromDataBase(root_path=root_db, debug=False, sql_query=NUCLICK_TILES_GT_QUERY)"
   ]
  },
  {
   "cell_type": "code",
   "execution_count": null,
   "metadata": {},
   "outputs": [],
   "source": [
    "all_outputs_nuclick = {}\n",
    "\n",
    "for i in range(our_dataset.dataframe.shape[0]):\n",
    "    tile_id = our_dataset.dataframe.index[i]\n",
    "\n",
    "    dataset_this_tile = TrainDataset(\n",
    "        our_dataset,\n",
    "        subset=[str(tile_id)],\n",
    "        label_transform=label_transform,\n",
    "    )\n",
    "\n",
    "    outputs, _, _ = inferer.predict_and_score(\n",
    "    dataset_this_tile, score=True, predict=True, batch_size=None\n",
    "    )\n",
    "    all_outputs_nuclick[tile_id] = (outputs[str(tile_id)][\"masks\"] > 0.5)\n",
    "\n",
    "    "
   ]
  },
  {
   "cell_type": "code",
   "execution_count": null,
   "metadata": {},
   "outputs": [],
   "source": [
    "all_outputs_nuclick[3521541].max()"
   ]
  },
  {
   "cell_type": "code",
   "execution_count": null,
   "metadata": {},
   "outputs": [],
   "source": [
    "dataset_valid = TrainDataset(\n",
    "    our_dataset,\n",
    "    label_transform=label_transform,\n",
    ")\n",
    "\n",
    "df_annotations_nuclick = export_masks_to_dataframe_annotations(all_outputs_nuclick, dataset_valid, model_name=\"nuclick\")"
   ]
  },
  {
   "cell_type": "code",
   "execution_count": null,
   "metadata": {},
   "outputs": [],
   "source": [
    "df_annotations_nuclick"
   ]
  },
  {
   "cell_type": "code",
   "execution_count": null,
   "metadata": {},
   "outputs": [],
   "source": [
    "df_annotations_nuclick.to_csv(\"/home/owkin/project/experiments/nuclick_sam_comp/nuclick_annotations.csv\", index=False)"
   ]
  },
  {
   "cell_type": "markdown",
   "metadata": {},
   "source": [
    "## Plot SAM and Nuclick annotations on ground truth tiles"
   ]
  },
  {
   "cell_type": "code",
   "execution_count": null,
   "metadata": {},
   "outputs": [],
   "source": [
    "sam_annotations = pd.read_csv(\"/home/owkin/project/experiments/nuclick_sam_comp/sam_annotations.csv\")\n",
    "nuclick_annotations =  pd.read_csv(\"/home/owkin/project/experiments/nuclick_sam_comp/nuclick_annotations.csv\")\n",
    "\n",
    "all_annotations = pd.concat([df_annotations, sam_annotations, nuclick_annotations], axis=0, join=\"outer\")"
   ]
  },
  {
   "cell_type": "code",
   "execution_count": null,
   "metadata": {},
   "outputs": [],
   "source": [
    "df_annotations.loc[df_annotations[\"cytomine_username\"] == \"kvonloga\"]"
   ]
  },
  {
   "cell_type": "code",
   "execution_count": null,
   "metadata": {},
   "outputs": [],
   "source": [
    "all_annotations"
   ]
  },
  {
   "cell_type": "code",
   "execution_count": null,
   "metadata": {},
   "outputs": [],
   "source": [
    "list_location_ids = sam_annotations[\"location_id\"].unique().tolist()"
   ]
  },
  {
   "cell_type": "code",
   "execution_count": null,
   "metadata": {},
   "outputs": [],
   "source": [
    "list_location_ids"
   ]
  },
  {
   "cell_type": "code",
   "execution_count": null,
   "metadata": {},
   "outputs": [],
   "source": [
    "all_annotations[\"location_id\"].value_counts()"
   ]
  },
  {
   "cell_type": "code",
   "execution_count": null,
   "metadata": {},
   "outputs": [],
   "source": [
    "matching_sam_katharina = annot_puller.retrieve_and_match_annotations(df_annotations=all_annotations, location_id=95145984, threshold_iou=0.0)"
   ]
  },
  {
   "cell_type": "code",
   "execution_count": null,
   "metadata": {},
   "outputs": [],
   "source": [
    "matching_sam_katharina[\"username_matching\"].value_counts()"
   ]
  },
  {
   "cell_type": "code",
   "execution_count": null,
   "metadata": {},
   "outputs": [],
   "source": [
    "for loc_id in list_location_ids:\n",
    "    ax, all_labels = plot_tile_with_multiple_annotators(all_annotations.loc[all_annotations[\"location_id\"] == loc_id])\n",
    "    plt.legend(all_labels.values(), all_labels.keys(), bbox_to_anchor=(1.01, 1), loc=\"upper left\")\n",
    "    plt.show()"
   ]
  },
  {
   "cell_type": "code",
   "execution_count": null,
   "metadata": {},
   "outputs": [],
   "source": [
    "all_annotations.loc[all_annotations[\"tile_id\"] == 3521541]"
   ]
  },
  {
   "cell_type": "code",
   "execution_count": null,
   "metadata": {},
   "outputs": [],
   "source": [
    "annot_trialland = all_annotations.loc[all_annotations[\"tile_id\"] == 95242592].copy()"
   ]
  },
  {
   "cell_type": "code",
   "execution_count": null,
   "metadata": {},
   "outputs": [],
   "source": [
    "ax = plot_annotations_on_tile(annot_trialland, draw_tile_box=True)\n",
    "\n",
    "ax.set_title(\"Tile 95242592 - T.Rialland\")"
   ]
  }
 ],
 "metadata": {
  "kernelspec": {
   "display_name": "sam",
   "language": "python",
   "name": "python3"
  },
  "language_info": {
   "codemirror_mode": {
    "name": "ipython",
    "version": 3
   },
   "file_extension": ".py",
   "mimetype": "text/x-python",
   "name": "python",
   "nbconvert_exporter": "python",
   "pygments_lexer": "ipython3",
   "version": "3.9.19"
  }
 },
 "nbformat": 4,
 "nbformat_minor": 2
}
